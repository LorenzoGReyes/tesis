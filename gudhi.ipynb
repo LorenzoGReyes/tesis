{
 "cells": [
  {
   "cell_type": "code",
   "execution_count": 1,
   "metadata": {
    "colab": {
     "base_uri": "https://localhost:8080/",
     "height": 71
    },
    "executionInfo": {
     "elapsed": 2720,
     "status": "ok",
     "timestamp": 1601230002799,
     "user": {
      "displayName": "Lorenzo Reyes Nuñez",
      "photoUrl": "https://lh3.googleusercontent.com/-ATSwg0ZNktU/AAAAAAAAAAI/AAAAAAAAAFs/gjzzCJOp_KE/s64/photo.jpg",
      "userId": "12769453243152227586"
     },
     "user_tz": 300
    },
    "id": "5E6GXxotIy-c",
    "outputId": "0e51f8b8-0e91-40fd-cf32-eb36ef8e295d"
   },
   "outputs": [],
   "source": [
    "import pandas as pd\n",
    "import numpy as np\n",
    "\n",
    "import seaborn as sns\n",
    "import matplotlib.pyplot as plt\n",
    "from matplotlib import rc\n",
    "\n",
    "\n",
    "from sklearn.datasets import make_blobs\n",
    "\n",
    "import gudhi as gd  "
   ]
  },
  {
   "cell_type": "code",
   "execution_count": 2,
   "metadata": {
    "colab": {
     "base_uri": "https://localhost:8080/",
     "height": 303
    },
    "executionInfo": {
     "elapsed": 2772,
     "status": "ok",
     "timestamp": 1601230003547,
     "user": {
      "displayName": "Lorenzo Reyes Nuñez",
      "photoUrl": "https://lh3.googleusercontent.com/-ATSwg0ZNktU/AAAAAAAAAAI/AAAAAAAAAFs/gjzzCJOp_KE/s64/photo.jpg",
      "userId": "12769453243152227586"
     },
     "user_tz": 300
    },
    "id": "6CV8_qyCIy_D",
    "outputId": "4d1101f3-6be0-4fed-f6bc-1ce019479a5f"
   },
   "outputs": [
    {
     "data": {
      "image/png": "[encoded data removed]",
      "text/plain": [
       "<Figure size 360x360 with 1 Axes>"
      ]
     },
     "metadata": {
      "needs_background": "light"
     },
     "output_type": "display_data"
    }
   ],
   "source": [
    "np.random.seed(1)\n",
    "r = np.arange(0.78,1.13,0.002)\n",
    "np.random.shuffle(r)\n",
    "delta = np.random.uniform(0,1, size=(175,))\n",
    "theta = np.arange(0,2*np.pi,0.036)\n",
    "\n",
    "x_1 = (r)*np.cos(theta+delta)\n",
    "y_1 = (r)*np.sin(theta+delta)\n",
    "data_1 = {'x_1':x_1, 'y_1':y_1}\n",
    "df_1 = pd.DataFrame(data_1)\n",
    "plt.figure(figsize=(5,5))\n",
    "plt.plot(x_1,y_1,'.', color='black')\n",
    "plt.axis('off')\n",
    "plt.show()"
   ]
  },
  {
   "cell_type": "code",
   "execution_count": 3,
   "metadata": {
    "id": "HEwVSKN7IzA4"
   },
   "outputs": [],
   "source": [
    "rips_complex = gd.RipsComplex(max_edge_length=0.5, points=df_1.values)"
   ]
  },
  {
   "cell_type": "code",
   "execution_count": 4,
   "metadata": {
    "id": "j71qv9UkIzA8"
   },
   "outputs": [],
   "source": [
    "simplex_tree = rips_complex.create_simplex_tree(max_dimension=25)"
   ]
  },
  {
   "cell_type": "code",
   "execution_count": 5,
   "metadata": {
    "colab": {
     "base_uri": "https://localhost:8080/",
     "height": 34
    },
    "executionInfo": {
     "elapsed": 2047,
     "status": "ok",
     "timestamp": 1601230003940,
     "user": {
      "displayName": "Lorenzo Reyes Nuñez",
      "photoUrl": "https://lh3.googleusercontent.com/-ATSwg0ZNktU/AAAAAAAAAAI/AAAAAAAAAFs/gjzzCJOp_KE/s64/photo.jpg",
      "userId": "12769453243152227586"
     },
     "user_tz": 300
    },
    "id": "bJEOuMbf5TOf",
    "outputId": "1e53458e-6201-4c19-910b-5a53cebd2c15"
   },
   "outputs": [
    {
     "data": {
      "text/plain": [
       "20"
      ]
     },
     "execution_count": 5,
     "metadata": {},
     "output_type": "execute_result"
    }
   ],
   "source": [
    "simplex_tree.dimension()"
   ]
  },
  {
   "cell_type": "code",
   "execution_count": 6,
   "metadata": {
    "colab": {
     "base_uri": "https://localhost:8080/",
     "height": 35
    },
    "executionInfo": {
     "elapsed": 1666,
     "status": "ok",
     "timestamp": 1601230003941,
     "user": {
      "displayName": "Lorenzo Reyes Nuñez",
      "photoUrl": "https://lh3.googleusercontent.com/-ATSwg0ZNktU/AAAAAAAAAAI/AAAAAAAAAFs/gjzzCJOp_KE/s64/photo.jpg",
      "userId": "12769453243152227586"
     },
     "user_tz": 300
    },
    "id": "k-wGV3MN6BL_",
    "outputId": "a720fe9f-ec70-47c4-9d5b-b075c20617da"
   },
   "outputs": [
    {
     "data": {
      "text/plain": [
       "'Rips complex is of dimension 20 - 7279744 simplices - 175 vertices.'"
      ]
     },
     "execution_count": 6,
     "metadata": {},
     "output_type": "execute_result"
    }
   ],
   "source": [
    "result_str = 'Rips complex is of dimension ' + repr(simplex_tree.dimension()) + ' - ' + \\\n",
    "    repr(simplex_tree.num_simplices()) + ' simplices - ' + \\\n",
    "    repr(simplex_tree.num_vertices()) + ' vertices.'\n",
    "\n",
    "result_str"
   ]
  },
  {
   "cell_type": "code",
   "execution_count": 7,
   "metadata": {
    "id": "so7f0qt-DfIi"
   },
   "outputs": [],
   "source": [
    "#fmt = '%s -> %.2f'\n",
    "#for filtered_value in simplex_tree.get_filtration():\n",
    "#    print(fmt % tuple(filtered_value))"
   ]
  },
  {
   "cell_type": "code",
   "execution_count": 8,
   "metadata": {
    "id": "Y45_1_wUIzBA"
   },
   "outputs": [],
   "source": [
    "diag = simplex_tree.persistence()"
   ]
  },
  {
   "cell_type": "code",
   "execution_count": 9,
   "metadata": {
    "colab": {
     "base_uri": "https://localhost:8080/",
     "height": 428
    },
    "executionInfo": {
     "elapsed": 29898,
     "status": "ok",
     "timestamp": 1601230035809,
     "user": {
      "displayName": "Lorenzo Reyes Nuñez",
      "photoUrl": "https://lh3.googleusercontent.com/-ATSwg0ZNktU/AAAAAAAAAAI/AAAAAAAAAFs/gjzzCJOp_KE/s64/photo.jpg",
      "userId": "12769453243152227586"
     },
     "user_tz": 300
    },
    "id": "ImnMWpaTIzBG",
    "outputId": "3b221cb1-7cfd-4f2b-b558-9ff15979b97d"
   },
   "outputs": [
    {
     "data": {
      "image/png": "[encoded data removed]",
      "text/plain": [
       "<Figure size 864x432 with 1 Axes>"
      ]
     },
     "metadata": {
      "needs_background": "light"
     },
     "output_type": "display_data"
    }
   ],
   "source": [
    "ax = gd.plot_persistence_diagram(diag, alpha=1)\n",
    "ax.figure.set_size_inches(12,6)\n",
    "\n",
    "plt.show()"
   ]
  },
  {
   "cell_type": "code",
   "execution_count": 10,
   "metadata": {
    "colab": {
     "base_uri": "https://localhost:8080/",
     "height": 477
    },
    "executionInfo": {
     "elapsed": 29639,
     "status": "ok",
     "timestamp": 1601230036153,
     "user": {
      "displayName": "Lorenzo Reyes Nuñez",
      "photoUrl": "https://lh3.googleusercontent.com/-ATSwg0ZNktU/AAAAAAAAAAI/AAAAAAAAAFs/gjzzCJOp_KE/s64/photo.jpg",
      "userId": "12769453243152227586"
     },
     "user_tz": 300
    },
    "id": "4HNoei2ai6Zr",
    "outputId": "3a4ef7da-c3a6-49b9-fe7c-63f9cb3360c5"
   },
   "outputs": [
    {
     "data": {
      "image/png": "[encoded data removed]",
      "text/plain": [
       "<Figure size 1800x720 with 1 Axes>"
      ]
     },
     "metadata": {
      "needs_background": "light"
     },
     "output_type": "display_data"
    }
   ],
   "source": [
    "ax = gd.plot_persistence_barcode(persistence=diag, alpha=1, max_intervals=200)\n",
    "ax.set(title='Persistence barcode')\n",
    "ax.figure.set_size_inches(25,10)\n",
    "\n",
    "\n",
    "plt.show()"
   ]
  },
  {
   "cell_type": "code",
   "execution_count": 11,
   "metadata": {
    "colab": {
     "base_uri": "https://localhost:8080/",
     "height": 34
    },
    "executionInfo": {
     "elapsed": 28496,
     "status": "ok",
     "timestamp": 1601230036155,
     "user": {
      "displayName": "Lorenzo Reyes Nuñez",
      "photoUrl": "https://lh3.googleusercontent.com/-ATSwg0ZNktU/AAAAAAAAAAI/AAAAAAAAAFs/gjzzCJOp_KE/s64/photo.jpg",
      "userId": "12769453243152227586"
     },
     "user_tz": 300
    },
    "id": "CrIjvq8Oi6No",
    "outputId": "91caaa4b-fc1f-45b9-a0e0-f318cc4ad718"
   },
   "outputs": [
    {
     "data": {
      "text/plain": [
       "[1, 1, 0, 0, 0, 0, 0, 0, 0, 0, 0, 0, 0, 0, 0, 0, 0, 0, 0, 0]"
      ]
     },
     "execution_count": 11,
     "metadata": {},
     "output_type": "execute_result"
    }
   ],
   "source": [
    "#simplex_tree.compute_persistence()\n",
    "simplex_tree.betti_numbers()"
   ]
  },
  {
   "cell_type": "code",
   "execution_count": 12,
   "metadata": {
    "colab": {
     "base_uri": "https://localhost:8080/",
     "height": 187
    },
    "executionInfo": {
     "elapsed": 802,
     "status": "ok",
     "timestamp": 1601230037014,
     "user": {
      "displayName": "Lorenzo Reyes Nuñez",
      "photoUrl": "https://lh3.googleusercontent.com/-ATSwg0ZNktU/AAAAAAAAAAI/AAAAAAAAAFs/gjzzCJOp_KE/s64/photo.jpg",
      "userId": "12769453243152227586"
     },
     "user_tz": 300
    },
    "id": "KoHv4Yx-ucru",
    "outputId": "c9ae2dc6-03cc-4fe9-c933-c375761cefb4"
   },
   "outputs": [
    {
     "data": {
      "text/plain": [
       "array([[0.        , 0.0046184 ],\n",
       "       [0.        , 0.00800036],\n",
       "       [0.        , 0.00848819],\n",
       "       [0.        , 0.00878279],\n",
       "       [0.        , 0.00932243],\n",
       "       [0.        , 0.0095433 ],\n",
       "       [0.        , 0.01162522],\n",
       "       [0.        , 0.0144836 ],\n",
       "       [0.        , 0.01525043],\n",
       "       [0.        , 0.01906582]])"
      ]
     },
     "execution_count": 12,
     "metadata": {},
     "output_type": "execute_result"
    }
   ],
   "source": [
    "interv0 = simplex_tree.persistence_intervals_in_dimension(0)[:10]\n",
    "interv0"
   ]
  },
  {
   "cell_type": "code",
   "execution_count": 13,
   "metadata": {
    "colab": {
     "base_uri": "https://localhost:8080/",
     "height": 476
    },
    "executionInfo": {
     "elapsed": 756,
     "status": "ok",
     "timestamp": 1601230037016,
     "user": {
      "displayName": "Lorenzo Reyes Nuñez",
      "photoUrl": "https://lh3.googleusercontent.com/-ATSwg0ZNktU/AAAAAAAAAAI/AAAAAAAAAFs/gjzzCJOp_KE/s64/photo.jpg",
      "userId": "12769453243152227586"
     },
     "user_tz": 300
    },
    "id": "XoKlWMo5udO9",
    "outputId": "b5275b82-97d6-42dc-dc19-af18fcf7447a"
   },
   "outputs": [
    {
     "data": {
      "text/plain": [
       "array([[0.05762862, 0.05961688],\n",
       "       [0.06080024, 0.06200291],\n",
       "       [0.05820918, 0.06504325],\n",
       "       [0.08112233, 0.08151736],\n",
       "       [0.0842634 , 0.09391765],\n",
       "       [0.10184769, 0.10775089],\n",
       "       [0.11151103, 0.11222522],\n",
       "       [0.11419855, 0.11562481],\n",
       "       [0.10018917, 0.11908337],\n",
       "       [0.11356983, 0.13482724],\n",
       "       [0.12371184, 0.14185504],\n",
       "       [0.11392663, 0.14715592],\n",
       "       [0.13717365, 0.15618718],\n",
       "       [0.12848158, 0.15862897],\n",
       "       [0.12088214, 0.15932613],\n",
       "       [0.1469866 , 0.16641957],\n",
       "       [0.16244093, 0.1683746 ],\n",
       "       [0.1662924 , 0.17224031],\n",
       "       [0.15794519, 0.18746613],\n",
       "       [0.16206741, 0.1956034 ],\n",
       "       [0.19016942, 0.20332818],\n",
       "       [0.20944825, 0.21946607],\n",
       "       [0.1658901 , 0.22940385],\n",
       "       [0.23233544, 0.2534118 ],\n",
       "       [0.21087196, 0.28165867],\n",
       "       [0.25361724, 0.28308722],\n",
       "       [0.21348234,        inf]])"
      ]
     },
     "execution_count": 13,
     "metadata": {},
     "output_type": "execute_result"
    }
   ],
   "source": [
    "interv1 = simplex_tree.persistence_intervals_in_dimension(1)\n",
    "interv1"
   ]
  },
  {
   "cell_type": "code",
   "execution_count": null,
   "metadata": {
    "id": "Jdw6J_Fa_VMC"
   },
   "outputs": [],
   "source": []
  },
  {
   "cell_type": "code",
   "execution_count": null,
   "metadata": {
    "id": "-X120vnlASb5"
   },
   "outputs": [],
   "source": []
  },
  {
   "cell_type": "code",
   "execution_count": null,
   "metadata": {
    "id": "PEPLQgt4ASl1"
   },
   "outputs": [],
   "source": []
  },
  {
   "cell_type": "markdown",
   "metadata": {
    "id": "e9QGnY7e_Fw5"
   },
   "source": [
    "Lo mismo pero sin ruido\n"
   ]
  },
  {
   "cell_type": "code",
   "execution_count": 14,
   "metadata": {
    "colab": {
     "base_uri": "https://localhost:8080/",
     "height": 303
    },
    "executionInfo": {
     "elapsed": 20846,
     "status": "ok",
     "timestamp": 1598132104294,
     "user": {
      "displayName": "Lorenzo Reyes Nuñez",
      "photoUrl": "https://lh3.googleusercontent.com/-ATSwg0ZNktU/AAAAAAAAAAI/AAAAAAAAAFs/gjzzCJOp_KE/s64/photo.jpg",
      "userId": "12769453243152227586"
     },
     "user_tz": 300
    },
    "id": "Vu0MMCuvudC_",
    "outputId": "ce55ba19-e806-499a-8faf-dcec1088afa0"
   },
   "outputs": [
    {
     "data": {
      "image/png": "[encoded data removed]",
      "text/plain": [
       "<Figure size 360x360 with 1 Axes>"
      ]
     },
     "metadata": {
      "needs_background": "light"
     },
     "output_type": "display_data"
    }
   ],
   "source": [
    "np.random.seed(1)\n",
    "r2 = np.array([1 for i in range(0, 50)])\n",
    "\n",
    "theta2 = np.arange(0,2*np.pi,0.128)\n",
    "\n",
    "x_1_2 = (r2)*np.cos(theta2)\n",
    "y_1_2 = (r2)*np.sin(theta2)\n",
    "data_2 = {'x_1':x_1_2, 'y_1':y_1_2}\n",
    "df_2 = pd.DataFrame(data_2)\n",
    "plt.figure(figsize=(5,5))\n",
    "plt.plot(x_1_2,y_1_2,'.', color='black')\n",
    "plt.axis('off')\n",
    "plt.show()"
   ]
  },
  {
   "cell_type": "code",
   "execution_count": 15,
   "metadata": {
    "id": "GEP4eBPzuc5K"
   },
   "outputs": [],
   "source": [
    "rips_complex2 = gd.RipsComplex(max_edge_length=0.5, points=df_2.values)"
   ]
  },
  {
   "cell_type": "code",
   "execution_count": 16,
   "metadata": {
    "id": "LJgOyKEHucz0"
   },
   "outputs": [],
   "source": [
    "simplex_tree2 = rips_complex2.create_simplex_tree(max_dimension=25)"
   ]
  },
  {
   "cell_type": "code",
   "execution_count": 17,
   "metadata": {
    "colab": {
     "base_uri": "https://localhost:8080/",
     "height": 35
    },
    "executionInfo": {
     "elapsed": 19870,
     "status": "ok",
     "timestamp": 1598132104296,
     "user": {
      "displayName": "Lorenzo Reyes Nuñez",
      "photoUrl": "https://lh3.googleusercontent.com/-ATSwg0ZNktU/AAAAAAAAAAI/AAAAAAAAAFs/gjzzCJOp_KE/s64/photo.jpg",
      "userId": "12769453243152227586"
     },
     "user_tz": 300
    },
    "id": "sCur_WBo_Eql",
    "outputId": "daa7cb50-f6af-4f50-b542-21e1183fcc18"
   },
   "outputs": [
    {
     "data": {
      "text/plain": [
       "'Rips complex is of dimension 4 - 432 simplices - 50 vertices.'"
      ]
     },
     "execution_count": 17,
     "metadata": {},
     "output_type": "execute_result"
    }
   ],
   "source": [
    "result_str2 = 'Rips complex is of dimension ' + repr(simplex_tree2.dimension()) + ' - ' + \\\n",
    "    repr(simplex_tree2.num_simplices()) + ' simplices - ' + \\\n",
    "    repr(simplex_tree2.num_vertices()) + ' vertices.'\n",
    "\n",
    "result_str2"
   ]
  },
  {
   "cell_type": "code",
   "execution_count": 18,
   "metadata": {
    "id": "FKIbWzlN_Eyr"
   },
   "outputs": [],
   "source": [
    "diag2 = simplex_tree2.persistence()"
   ]
  },
  {
   "cell_type": "code",
   "execution_count": 19,
   "metadata": {
    "colab": {
     "base_uri": "https://localhost:8080/",
     "height": 411
    },
    "executionInfo": {
     "elapsed": 19607,
     "status": "ok",
     "timestamp": 1598132104714,
     "user": {
      "displayName": "Lorenzo Reyes Nuñez",
      "photoUrl": "https://lh3.googleusercontent.com/-ATSwg0ZNktU/AAAAAAAAAAI/AAAAAAAAAFs/gjzzCJOp_KE/s64/photo.jpg",
      "userId": "12769453243152227586"
     },
     "user_tz": 300
    },
    "id": "iTYWVobP_EpA",
    "outputId": "04e04810-12b4-45b4-acdc-d90f8403d347"
   },
   "outputs": [
    {
     "data": {
      "image/png": "[encoded data removed]",
      "text/plain": [
       "<Figure size 864x432 with 1 Axes>"
      ]
     },
     "metadata": {
      "needs_background": "light"
     },
     "output_type": "display_data"
    }
   ],
   "source": [
    "ax = gd.plot_persistence_diagram(diag2, alpha=1)\n",
    "ax.figure.set_size_inches(12,6)\n",
    "\n",
    "plt.show()"
   ]
  },
  {
   "cell_type": "code",
   "execution_count": 20,
   "metadata": {
    "colab": {
     "base_uri": "https://localhost:8080/",
     "height": 477
    },
    "executionInfo": {
     "elapsed": 19695,
     "status": "ok",
     "timestamp": 1598132105103,
     "user": {
      "displayName": "Lorenzo Reyes Nuñez",
      "photoUrl": "https://lh3.googleusercontent.com/-ATSwg0ZNktU/AAAAAAAAAAI/AAAAAAAAAFs/gjzzCJOp_KE/s64/photo.jpg",
      "userId": "12769453243152227586"
     },
     "user_tz": 300
    },
    "id": "52TrIDP4_EnI",
    "outputId": "914d5d60-a381-4a2d-de84-402400b277fe"
   },
   "outputs": [
    {
     "data": {
      "image/png": "[encoded data removed]",
      "text/plain": [
       "<Figure size 1800x720 with 1 Axes>"
      ]
     },
     "metadata": {
      "needs_background": "light"
     },
     "output_type": "display_data"
    }
   ],
   "source": [
    "ax = gd.plot_persistence_barcode(persistence=diag2, alpha=1, max_intervals=200)\n",
    "ax.set(title='Persistence barcode')\n",
    "ax.figure.set_size_inches(25,10)\n",
    "\n",
    "\n",
    "plt.show()"
   ]
  },
  {
   "cell_type": "code",
   "execution_count": 21,
   "metadata": {
    "colab": {
     "base_uri": "https://localhost:8080/",
     "height": 272
    },
    "executionInfo": {
     "elapsed": 789,
     "status": "ok",
     "timestamp": 1598132311632,
     "user": {
      "displayName": "Lorenzo Reyes Nuñez",
      "photoUrl": "https://lh3.googleusercontent.com/-ATSwg0ZNktU/AAAAAAAAAAI/AAAAAAAAAFs/gjzzCJOp_KE/s64/photo.jpg",
      "userId": "12769453243152227586"
     },
     "user_tz": 300
    },
    "id": "UOiepuFJ_Elu",
    "outputId": "bb46f447-32c5-4fc5-e990-e2f2d9531f4e"
   },
   "outputs": [
    {
     "data": {
      "text/plain": [
       "array([[0.        , 0.01118525],\n",
       "       [0.        , 0.12791264],\n",
       "       [0.        , 0.12791264],\n",
       "       [0.        , 0.12791264],\n",
       "       [0.        , 0.12791264],\n",
       "       [0.        , 0.12791264],\n",
       "       [0.        , 0.12791264],\n",
       "       [0.        , 0.12791264],\n",
       "       [0.        , 0.12791264],\n",
       "       [0.        , 0.12791264],\n",
       "       [0.        , 0.12791264],\n",
       "       [0.        , 0.12791264],\n",
       "       [0.        , 0.12791264],\n",
       "       [0.        , 0.12791264],\n",
       "       [0.        , 0.12791264]])"
      ]
     },
     "execution_count": 21,
     "metadata": {},
     "output_type": "execute_result"
    }
   ],
   "source": [
    "interv0_2 = simplex_tree2.persistence_intervals_in_dimension(0)[:15]\n",
    "interv0_2 "
   ]
  },
  {
   "cell_type": "code",
   "execution_count": 22,
   "metadata": {
    "colab": {
     "base_uri": "https://localhost:8080/",
     "height": 34
    },
    "executionInfo": {
     "elapsed": 722,
     "status": "ok",
     "timestamp": 1598132335977,
     "user": {
      "displayName": "Lorenzo Reyes Nuñez",
      "photoUrl": "https://lh3.googleusercontent.com/-ATSwg0ZNktU/AAAAAAAAAAI/AAAAAAAAAFs/gjzzCJOp_KE/s64/photo.jpg",
      "userId": "12769453243152227586"
     },
     "user_tz": 300
    },
    "id": "7vi6Y48g_Ege",
    "outputId": "238f9edd-a06b-4a01-8c65-c0a185962c36"
   },
   "outputs": [
    {
     "data": {
      "text/plain": [
       "array([[0.12791264,        inf]])"
      ]
     },
     "execution_count": 22,
     "metadata": {},
     "output_type": "execute_result"
    }
   ],
   "source": [
    "interv1_2 = simplex_tree2.persistence_intervals_in_dimension(1)\n",
    "interv1_2"
   ]
  },
  {
   "cell_type": "code",
   "execution_count": 23,
   "metadata": {
    "colab": {
     "base_uri": "https://localhost:8080/",
     "height": 34
    },
    "executionInfo": {
     "elapsed": 695,
     "status": "ok",
     "timestamp": 1598132448626,
     "user": {
      "displayName": "Lorenzo Reyes Nuñez",
      "photoUrl": "https://lh3.googleusercontent.com/-ATSwg0ZNktU/AAAAAAAAAAI/AAAAAAAAAFs/gjzzCJOp_KE/s64/photo.jpg",
      "userId": "12769453243152227586"
     },
     "user_tz": 300
    },
    "id": "X8IJok8LErKE",
    "outputId": "434f7906-9490-464d-c3ae-cc8508b37136"
   },
   "outputs": [
    {
     "data": {
      "text/plain": [
       "(0.06395631828030929, 0.08556969947262705)"
      ]
     },
     "execution_count": 23,
     "metadata": {},
     "output_type": "execute_result"
    }
   ],
   "source": [
    "bot0 = gd.bottleneck_distance(interv0, interv0_2)\n",
    "bot1 = gd.bottleneck_distance(interv1, interv1_2)\n",
    "bot0, bot1"
   ]
  },
  {
   "cell_type": "code",
   "execution_count": null,
   "metadata": {
    "id": "fxif8fNlErWC"
   },
   "outputs": [],
   "source": []
  },
  {
   "cell_type": "code",
   "execution_count": null,
   "metadata": {
    "id": "iaR2iGCXES5D"
   },
   "outputs": [],
   "source": []
  },
  {
   "cell_type": "code",
   "execution_count": null,
   "metadata": {
    "id": "6supf5SbES1j"
   },
   "outputs": [],
   "source": []
  },
  {
   "cell_type": "code",
   "execution_count": null,
   "metadata": {
    "id": "XeltXQdUCyA2"
   },
   "outputs": [],
   "source": []
  },
  {
   "cell_type": "code",
   "execution_count": null,
   "metadata": {
    "id": "xSXvuzsOCyIW"
   },
   "outputs": [],
   "source": []
  },
  {
   "cell_type": "markdown",
   "metadata": {
    "id": "DF81qGuBVAh6"
   },
   "source": [
    "Ahora el otro"
   ]
  },
  {
   "cell_type": "code",
   "execution_count": null,
   "metadata": {
    "id": "GEwejy7VsSqr"
   },
   "outputs": [],
   "source": [
    "r = np.arange(0,.35,0.002)\n",
    "np.random.shuffle(r)\n",
    "delta = np.random.uniform(0,1, size=(175,))\n",
    "theta = np.arange(0,2*np.pi,0.036)\n",
    "x_2 = (r)*np.cos(theta+delta)\n",
    "y_2 = (r)*np.sin(theta+delta)\n",
    "data_2 = {'x_2':x_2, 'y_2':y_2}\n",
    "df_2 = pd.DataFrame(data_2)"
   ]
  },
  {
   "cell_type": "code",
   "execution_count": null,
   "metadata": {
    "colab": {
     "base_uri": "https://localhost:8080/",
     "height": 303
    },
    "executionInfo": {
     "elapsed": 2022,
     "status": "ok",
     "timestamp": 1598132030886,
     "user": {
      "displayName": "Lorenzo Reyes Nuñez",
      "photoUrl": "https://lh3.googleusercontent.com/-ATSwg0ZNktU/AAAAAAAAAAI/AAAAAAAAAFs/gjzzCJOp_KE/s64/photo.jpg",
      "userId": "12769453243152227586"
     },
     "user_tz": 300
    },
    "id": "AcPs1M0Ki6Ex",
    "outputId": "2c938f2d-60a1-4568-a29e-f5a74e98a5f4"
   },
   "outputs": [
    {
     "data": {
      "image/png": "[encoded data removed]",
      "text/plain": [
       "<Figure size 360x360 with 1 Axes>"
      ]
     },
     "metadata": {
      "needs_background": "light",
      "tags": []
     },
     "output_type": "display_data"
    }
   ],
   "source": [
    "\n",
    "plt.figure(figsize=(5,5))\n",
    "plt.plot(x_2,y_2,'.', color='black')\n",
    "plt.axis('off')\n",
    "plt.ylim(-1, 1)\n",
    "plt.xlim(-1,1)\n",
    "plt.show()"
   ]
  },
  {
   "cell_type": "code",
   "execution_count": null,
   "metadata": {
    "id": "c8GACQM7i5_w"
   },
   "outputs": [],
   "source": [
    "rips_complex_2 = gd.RipsComplex(max_edge_length=0.2, points=df_2.values)"
   ]
  },
  {
   "cell_type": "code",
   "execution_count": null,
   "metadata": {
    "id": "EtYVVkN5bIut"
   },
   "outputs": [],
   "source": [
    "simplex_tree_2 = rips_complex_2.create_simplex_tree(max_dimension=8)"
   ]
  },
  {
   "cell_type": "code",
   "execution_count": null,
   "metadata": {
    "id": "C9ElOTLFi5tA"
   },
   "outputs": [],
   "source": [
    "result_str_2 = 'Rips complex is of dimension ' + repr(simplex_tree_2.dimension()) + ' - ' + \\\n",
    "    repr(simplex_tree_2.num_simplices()) + ' simplices - ' + \\\n",
    "    repr(simplex_tree_2.num_vertices()) + ' vertices.'\n",
    "\n",
    "result_str_2"
   ]
  },
  {
   "cell_type": "code",
   "execution_count": null,
   "metadata": {
    "id": "IarJcYEMj7Ee"
   },
   "outputs": [],
   "source": [
    "diag_2 = simplex_tree_2.persistence()"
   ]
  },
  {
   "cell_type": "code",
   "execution_count": null,
   "metadata": {
    "id": "uvnjtE_-WMOZ"
   },
   "outputs": [],
   "source": [
    "ax = gd.plot_persistence_diagram(diag_2, alpha=0.5)\n",
    "ax.figure.set_size_inches(12,6)\n",
    "\n",
    "plt.show()"
   ]
  },
  {
   "cell_type": "code",
   "execution_count": null,
   "metadata": {
    "id": "AXUP_1yXWh3p"
   },
   "outputs": [],
   "source": [
    "ax = gd.plot_persistence_barcode(persistence=diag, alpha=0.5, max_intervals=100)\n",
    "ax.set(title='Persistence_barcode')\n",
    "ax.figure.set_size_inches(20,8)\n",
    "\n",
    "plt.show()"
   ]
  },
  {
   "cell_type": "code",
   "execution_count": null,
   "metadata": {
    "id": "gnuxjtJ0WiCp"
   },
   "outputs": [],
   "source": []
  },
  {
   "cell_type": "code",
   "execution_count": null,
   "metadata": {
    "id": "J0yzHRyDWiM8"
   },
   "outputs": [],
   "source": []
  },
  {
   "cell_type": "code",
   "execution_count": null,
   "metadata": {
    "id": "pL7dKHcoWiLU"
   },
   "outputs": [],
   "source": [
    "data_random = make_blobs(n_samples=100, n_features=2,\n",
    "                         centers=4, center_box=(-20, 20),\n",
    "                         cluster_std = 1, random_state=1)"
   ]
  },
  {
   "cell_type": "code",
   "execution_count": null,
   "metadata": {
    "colab": {
     "base_uri": "https://localhost:8080/",
     "height": 282
    },
    "executionInfo": {
     "elapsed": 763,
     "status": "ok",
     "timestamp": 1597880969524,
     "user": {
      "displayName": "Lorenzo Reyes Nuñez",
      "photoUrl": "https://lh3.googleusercontent.com/-ATSwg0ZNktU/AAAAAAAAAAI/AAAAAAAAAFs/gjzzCJOp_KE/s64/photo.jpg",
      "userId": "12769453243152227586"
     },
     "user_tz": 300
    },
    "id": "Xyg6N_ULWiHL",
    "outputId": "a0213726-135b-4b16-a456-59dc46725604"
   },
   "outputs": [
    {
     "data": {
      "text/plain": [
       "<matplotlib.collections.PathCollection at 0x7f0da2e55240>"
      ]
     },
     "execution_count": 21,
     "metadata": {
      "tags": []
     },
     "output_type": "execute_result"
    },
    {
     "data": {
      "image/png": "[encoded data removed]",
      "text/plain": [
       "<Figure size 432x288 with 1 Axes>"
      ]
     },
     "metadata": {
      "needs_background": "light",
      "tags": []
     },
     "output_type": "display_data"
    }
   ],
   "source": [
    "plt.scatter(data_random[0][:,0],data_random[0][:,1],c=data_random[1],cmap='rainbow')"
   ]
  },
  {
   "cell_type": "code",
   "execution_count": null,
   "metadata": {
    "id": "Vn03tEc0Wh_v"
   },
   "outputs": [],
   "source": []
  },
  {
   "cell_type": "code",
   "execution_count": null,
   "metadata": {
    "id": "AhCxK5iJW9gX"
   },
   "outputs": [],
   "source": []
  },
  {
   "cell_type": "code",
   "execution_count": null,
   "metadata": {
    "id": "CWhzI0QnW9p8"
   },
   "outputs": [],
   "source": []
  },
  {
   "cell_type": "code",
   "execution_count": null,
   "metadata": {
    "id": "SpzsJEBtW9oP"
   },
   "outputs": [],
   "source": []
  },
  {
   "cell_type": "code",
   "execution_count": null,
   "metadata": {
    "id": "x4XzOHqlW9jg"
   },
   "outputs": [],
   "source": []
  }
 ],
 "metadata": {
  "colab": {
   "collapsed_sections": [],
   "name": "Copy of tesis.ipynb",
   "provenance": [
    {
     "file_id": "1lpITpuIjwHRUnbkpGzljNzPhOgOg5LGW",
     "timestamp": 1601571583106
    }
   ]
  },
  "kernelspec": {
   "display_name": "Python 3",
   "language": "python",
   "name": "python3"
  },
  "language_info": {
   "codemirror_mode": {
    "name": "ipython",
    "version": 3
   },
   "file_extension": ".py",
   "mimetype": "text/x-python",
   "name": "python",
   "nbconvert_exporter": "python",
   "pygments_lexer": "ipython3",
   "version": "3.8.3"
  }
 },
 "nbformat": 4,
 "nbformat_minor": 1
}
